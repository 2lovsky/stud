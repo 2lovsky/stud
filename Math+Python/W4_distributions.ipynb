{
 "cells": [
  {
   "cell_type": "markdown",
   "metadata": {},
   "source": [
    "# Неделя 4: ЦПТ"
   ]
  },
  {
   "cell_type": "markdown",
   "metadata": {},
   "source": [
    "## Критерии"
   ]
  },
  {
   "cell_type": "markdown",
   "metadata": {
    "collapsed": true
   },
   "source": [
    "Решение должно представлять собой IPython-ноутбук, содержащий:\n",
    "\n",
    "+код, генерирующий выборки и графики; \n",
    "+краткие описания каждого блока кода, объясняющие, что он делает;  \n",
    "+необходимые графики (убедитесь, что на них подписаны оси);  \n",
    "+выкладки с вычислениями параметров нормальных распределений, аппроксимирующих выборочные средние при различных n;  \n",
    "+выводы по результатам выполнения задания."
   ]
  },
  {
   "cell_type": "markdown",
   "metadata": {},
   "source": [
    "Библиотеки"
   ]
  },
  {
   "cell_type": "code",
   "execution_count": 1,
   "metadata": {
    "collapsed": true
   },
   "outputs": [],
   "source": [
    "import numpy as np\n",
    "import matplotlib.pyplot as plt\n",
    "import scipy.stats as sts\n",
    "from math import *\n",
    "%matplotlib inline"
   ]
  },
  {
   "cell_type": "markdown",
   "metadata": {},
   "source": [
    "Выберите ваше любимое непрерывное распределение (чем меньше оно будет похоже на нормальное, тем интереснее; попробуйте выбрать какое-нибудь распределение из тех, что мы не обсуждали в курсе).  \n",
    "\n",
    "Распределение: нецентральное t  \n",
    "https://docs.scipy.org/doc/scipy-0.14.0/reference/generated/scipy.stats.nct.html#scipy.stats.nct  \n",
    "Параметры: df = 5, nc = 0.75, loc = 0, scale = 1"
   ]
  },
  {
   "cell_type": "code",
   "execution_count": 2,
   "metadata": {
    "collapsed": true
   },
   "outputs": [],
   "source": [
    "dfr = 5\n",
    "nc = .5\n",
    "t_rv = sts.nct(dfr, nc)"
   ]
  },
  {
   "cell_type": "markdown",
   "metadata": {},
   "source": [
    "Сгенерируйте из него выборку объёма 1000, постройте гистограмму выборки и нарисуйте поверх неё теоретическую плотность распределения вашей случайной величины (чтобы величины были в одном масштабе, не забудьте выставить у гистограммы значение параметра normed=True)."
   ]
  },
  {
   "cell_type": "code",
   "execution_count": 3,
   "metadata": {},
   "outputs": [
    {
     "data": {
      "text/plain": [
       "array([ 2.4060597 , -0.22500758, -0.04208128, -0.51429396,  0.94234711])"
      ]
     },
     "execution_count": 3,
     "metadata": {},
     "output_type": "execute_result"
    }
   ],
   "source": [
    "np.random.seed(seed=1)\n",
    "sample = t_rv.rvs(1000)\n",
    "sample[0:5]"
   ]
  },
  {
   "cell_type": "code",
   "execution_count": 4,
   "metadata": {
    "scrolled": false
   },
   "outputs": [
    {
     "data": {
      "text/plain": [
       "Text(0.5,1,'Нецентральное t')"
      ]
     },
     "execution_count": 4,
     "metadata": {},
     "output_type": "execute_result"
    },
    {
     "data": {
      "image/png": "[encoded data removed]",
      "text/plain": [
       "<matplotlib.figure.Figure at 0x2704ad4ba90>"
      ]
     },
     "metadata": {},
     "output_type": "display_data"
    }
   ],
   "source": [
    "plt.hist(sample, bins=20, normed=True)\n",
    "# Теоретическая плотность:\n",
    "x = np.linspace(-6,10,100)\n",
    "pdf = t_rv.pdf(x)\n",
    "plt.plot(x, pdf)\n",
    "plt.ylabel('Плотность')\n",
    "plt.xlabel('x')\n",
    "plt.title(\"Нецентральное t\")"
   ]
  },
  {
   "cell_type": "markdown",
   "metadata": {},
   "source": [
    "Ваша задача — оценить распределение выборочного среднего вашей случайной величины при разных объёмах выборок.\n",
    "Для этого при трёх и более значениях n (например, 5, 10, 50) сгенерируйте 1000 выборок объёма n и постройте гистограммы распределений их выборочных средних."
   ]
  },
  {
   "cell_type": "code",
   "execution_count": 5,
   "metadata": {
    "collapsed": true
   },
   "outputs": [],
   "source": [
    "ns = [5, 10, 50]\n",
    "def lmap(function, vals):\n",
    "    return list(map(function, vals))"
   ]
  },
  {
   "cell_type": "code",
   "execution_count": 6,
   "metadata": {
    "collapsed": true
   },
   "outputs": [],
   "source": [
    "samples = [[t_rv.rvs(n) for i in range(1000)] for n in ns] "
   ]
  },
  {
   "cell_type": "code",
   "execution_count": 7,
   "metadata": {},
   "outputs": [
    {
     "data": {
      "text/plain": [
       "[1000, 1000, 1000]"
      ]
     },
     "execution_count": 7,
     "metadata": {},
     "output_type": "execute_result"
    }
   ],
   "source": [
    "lmap(len,samples)"
   ]
  },
  {
   "cell_type": "code",
   "execution_count": 8,
   "metadata": {},
   "outputs": [
    {
     "data": {
      "text/plain": [
       "[array([ 1.18560575,  0.63666071,  0.42219802,  0.23826165,  0.76921401]),\n",
       " array([ 2.19706593,  0.60215652,  0.53722973, -0.09117683,  0.47116043]),\n",
       " array([ 0.80838292, -0.09406214,  0.60712398, -1.93880849,  1.08085662]),\n",
       " array([-0.2208814 ,  0.76419951,  1.03947512,  0.62375104, -0.09668429]),\n",
       " array([-0.12027085,  1.19948515,  1.46725938, -0.49560039,  3.59371865]),\n",
       " array([ 0.28427258, -0.41107707,  0.1730944 ,  1.38682581,  0.14772182]),\n",
       " array([ 0.03783909,  1.43865422, -0.19354089,  0.61127135, -0.66399406]),\n",
       " array([ 1.75717228,  0.40657518, -0.08951443,  0.1315126 , -0.85675506]),\n",
       " array([-1.28725879,  1.08067881, -0.96777396, -0.56134481,  2.4461474 ]),\n",
       " array([-0.231725  , -0.15502814,  0.73389676,  1.58689554,  1.01120206])]"
      ]
     },
     "execution_count": 8,
     "metadata": {},
     "output_type": "execute_result"
    }
   ],
   "source": [
    "samples[0][0:10]"
   ]
  },
  {
   "cell_type": "code",
   "execution_count": 9,
   "metadata": {
    "collapsed": true
   },
   "outputs": [],
   "source": [
    "means = [[np.mean(samples[i][j]) for j in range(1000)] for i in range(len(ns))]"
   ]
  },
  {
   "cell_type": "code",
   "execution_count": 10,
   "metadata": {},
   "outputs": [
    {
     "data": {
      "text/plain": [
       "[0.65038802676388807,\n",
       " 0.74328715442027049,\n",
       " 0.092698577850216693,\n",
       " 0.42197199655820511,\n",
       " 1.1289183887612637,\n",
       " 0.31616750810189748,\n",
       " 0.24604594155594603,\n",
       " 0.26979811334814868,\n",
       " 0.14208973011187331,\n",
       " 0.58904824366065234]"
      ]
     },
     "execution_count": 10,
     "metadata": {},
     "output_type": "execute_result"
    }
   ],
   "source": [
    "means[0][0:10]"
   ]
  },
  {
   "cell_type": "code",
   "execution_count": 11,
   "metadata": {},
   "outputs": [
    {
     "data": {
      "text/plain": [
       "Text(0.5,1,'Гистограммы средних\\n для разных длин выборок')"
      ]
     },
     "execution_count": 11,
     "metadata": {},
     "output_type": "execute_result"
    },
    {
     "data": {
      "image/png": "[encoded data removed]",
      "text/plain": [
       "<matplotlib.figure.Figure at 0x2704aa61be0>"
      ]
     },
     "metadata": {},
     "output_type": "display_data"
    }
   ],
   "source": [
    "for i in range(len(ns)):\n",
    "    plt.hist(means[i], bins=20, label = 'N = ' + str(ns[i]), normed=True)\n",
    "plt.legend()\n",
    "plt.ylabel('Плотность')\n",
    "plt.xlabel('x')\n",
    "plt.title(\"Гистограммы средних\\n для разных длин выборок\")"
   ]
  },
  {
   "cell_type": "markdown",
   "metadata": {},
   "source": [
    "Используя информацию о среднем и дисперсии исходного распределения (её можно без труда найти в википедии), посчитайте значения параметров нормальных распределений, которыми, согласно центральной предельной теореме, приближается распределение выборочных средних.  \n",
    "Обратите внимание: для подсчёта значений этих параметров нужно использовать именно теоретические среднее и дисперсию вашей случайной величины, а не их выборочные оценки. "
   ]
  },
  {
   "cell_type": "markdown",
   "metadata": {},
   "source": [
    "Для определения среднего и дисперсии воспользуемся заданным объектом распределения (не википедией)"
   ]
  },
  {
   "cell_type": "code",
   "execution_count": 12,
   "metadata": {},
   "outputs": [
    {
     "data": {
      "text/plain": [
       "(0.59470803871759048, 1.7296556820180102)"
      ]
     },
     "execution_count": 12,
     "metadata": {},
     "output_type": "execute_result"
    }
   ],
   "source": [
    "t_rv.mean(), t_rv.var()"
   ]
  },
  {
   "cell_type": "code",
   "execution_count": 18,
   "metadata": {},
   "outputs": [],
   "source": [
    "sqrt_ns = lmap(sqrt,ns)"
   ]
  },
  {
   "cell_type": "code",
   "execution_count": 19,
   "metadata": {},
   "outputs": [
    {
     "data": {
      "text/plain": [
       "array([ 0.77352554,  0.54696515,  0.24461025])"
      ]
     },
     "execution_count": 19,
     "metadata": {},
     "output_type": "execute_result"
    }
   ],
   "source": [
    "variances = t_rv.var() / sqrt_ns\n",
    "variances"
   ]
  },
  {
   "cell_type": "markdown",
   "metadata": {},
   "source": [
    "Поверх каждой гистограммы нарисуйте плотность соответствующего нормального распределения (будьте внимательны с параметрами функции, она принимает на вход не дисперсию, а стандартное отклонение).  "
   ]
  },
  {
   "cell_type": "code",
   "execution_count": 20,
   "metadata": {
    "collapsed": true
   },
   "outputs": [],
   "source": [
    "norm_mean = t_rv.mean()\n",
    "norm_var = variances"
   ]
  },
  {
   "cell_type": "code",
   "execution_count": 21,
   "metadata": {
    "scrolled": true
   },
   "outputs": [
    {
     "data": {
      "text/plain": [
       "Text(0.5,1,'Гистограммы средних\\n c наложением нормальных распределений')"
      ]
     },
     "execution_count": 21,
     "metadata": {},
     "output_type": "execute_result"
    },
    {
     "data": {
      "image/png": "[encoded data removed]",
      "text/plain": [
       "<matplotlib.figure.Figure at 0x2704acbf390>"
      ]
     },
     "metadata": {},
     "output_type": "display_data"
    }
   ],
   "source": [
    "for i in range(len(ns)):\n",
    "    x = np.linspace(-1,4,100)\n",
    "    n_rv = sts.norm(norm_mean, norm_var[i])\n",
    "    pdf = n_rv.pdf(x)\n",
    "    plt.hist(means[i], bins=30, label = 'N = ' + str(ns[i]), normed=True)\n",
    "    plt.plot(x, pdf, label = 'N = ' + str(ns[i]) + ' norm')\n",
    "plt.legend()\n",
    "plt.ylabel('Плотность')\n",
    "plt.xlabel('x')\n",
    "plt.title(\"Гистограммы средних\\n c наложением нормальных распределений\")"
   ]
  },
  {
   "cell_type": "markdown",
   "metadata": {},
   "source": [
    "Опишите разницу между полученными распределениями при различных значениях n. Как меняется точность аппроксимации распределения выборочных средних нормальным с ростом n?"
   ]
  },
  {
   "cell_type": "markdown",
   "metadata": {},
   "source": [
    "=> Дисперсия с ростом N ниже => растет точность приближения выборочных средних нормальным ."
   ]
  }
 ],
 "metadata": {
  "kernelspec": {
   "display_name": "Python 3",
   "language": "python",
   "name": "python3"
  },
  "language_info": {
   "codemirror_mode": {
    "name": "ipython",
    "version": 3
   },
   "file_extension": ".py",
   "mimetype": "text/x-python",
   "name": "python",
   "nbconvert_exporter": "python",
   "pygments_lexer": "ipython3",
   "version": "3.6.3"
  }
 },
 "nbformat": 4,
 "nbformat_minor": 2
}
